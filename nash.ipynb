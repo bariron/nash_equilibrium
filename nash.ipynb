{
 "cells": [
  {
   "cell_type": "code",
   "execution_count": 16,
   "metadata": {},
   "outputs": [
    {
     "ename": "ModuleNotFoundError",
     "evalue": "No module named 'numpy'",
     "output_type": "error",
     "traceback": [
      "\u001b[0;31m---------------------------------------------------------------------------\u001b[0m",
      "\u001b[0;31mModuleNotFoundError\u001b[0m                       Traceback (most recent call last)",
      "Cell \u001b[0;32mIn[16], line 1\u001b[0m\n\u001b[0;32m----> 1\u001b[0m \u001b[38;5;28;01mimport\u001b[39;00m \u001b[38;5;21;01mnumpy\u001b[39;00m \u001b[38;5;28;01mas\u001b[39;00m \u001b[38;5;21;01mnp\u001b[39;00m\n\u001b[1;32m      2\u001b[0m \u001b[38;5;28;01mfrom\u001b[39;00m \u001b[38;5;21;01mscipy\u001b[39;00m\u001b[38;5;21;01m.\u001b[39;00m\u001b[38;5;21;01moptimize\u001b[39;00m \u001b[38;5;28;01mimport\u001b[39;00m linprog\n\u001b[1;32m      3\u001b[0m \u001b[38;5;28;01mimport\u001b[39;00m \u001b[38;5;21;01mmatplotlib\u001b[39;00m\u001b[38;5;21;01m.\u001b[39;00m\u001b[38;5;21;01mpyplot\u001b[39;00m \u001b[38;5;28;01mas\u001b[39;00m \u001b[38;5;21;01mplt\u001b[39;00m\n",
      "\u001b[0;31mModuleNotFoundError\u001b[0m: No module named 'numpy'"
     ]
    }
   ],
   "source": [
    "import numpy as np\n",
    "from scipy.optimize import linprog\n",
    "import matplotlib.pyplot as plt"
   ]
  },
  {
   "cell_type": "code",
   "execution_count": null,
   "metadata": {},
   "outputs": [],
   "source": [
    "def nash_equilibrium(a):\n",
    "    m, n = a.shape\n",
    "\n",
    "    # Понижаем все значения, чтобы минимальное было 1 или больше\n",
    "    min_el = a.min()\n",
    "    if min_el < 1:\n",
    "        a -= min_el - 1\n",
    "\n",
    "    # Ищем стратегию для первого игрока\n",
    "    c = np.ones(m)\n",
    "    b = -np.ones(n)\n",
    "    A_ub = -a.T\n",
    "    res = linprog(c=c, A_ub=A_ub, b_ub=b)\n",
    "    if not res.success:\n",
    "        raise ValueError(\"Не удалось найти оптимальную стратегию для первого игрока.\")\n",
    "    p = res.x\n",
    "    u = 1 / p.sum()  # общее значение выигрыша\n",
    "    p *= u  # нормализуем стратегию\n",
    "\n",
    "    # Ищем стратегию для второго игрока\n",
    "    c = -np.ones(n)\n",
    "    b = np.ones(m)\n",
    "    A_ub = a\n",
    "    res = linprog(c=c, A_ub=A_ub, b_ub=b)\n",
    "    if not res.success:\n",
    "        raise ValueError(\"Не удалось найти оптимальную стратегию для второго игрока.\")\n",
    "    q = res.x\n",
    "    q *= u  # нормализуем стратегию\n",
    "\n",
    "    # Корректируем общее значение выигрыша\n",
    "    u += min_el - 1\n",
    "\n",
    "    return u, p, q"
   ]
  },
  {
   "cell_type": "code",
   "execution_count": null,
   "metadata": {},
   "outputs": [],
   "source": [
    "def visualization(p):\n",
    "    plt.figure(figsize=(8, 4))\n",
    "    plt.axis([0, len(p) + 1, 0, max(p) + 0.1])  # Увеличим запас по высоте, чтобы ошибки округления предотвратить\n",
    "    plt.xlabel('Стратегии')\n",
    "    plt.ylabel('Вероятность')\n",
    "    plt.title('Распределение вероятностей стратегий')\n",
    "\n",
    "    for i in range(len(p)):\n",
    "        plt.scatter(i + 1, p[i], alpha=0.5, color='b', zorder=3)\n",
    "        plt.bar(i + 1, p[i], alpha=0.3, color='gray', width=0.3, zorder=2)\n",
    "\n",
    "    plt.xticks(range(1, len(p) + 1))\n",
    "    plt.grid(True, linestyle='--', alpha=0.7)\n",
    "    plt.show()"
   ]
  },
  {
   "cell_type": "code",
   "execution_count": null,
   "metadata": {},
   "outputs": [],
   "source": [
    "def main(a):\n",
    "    u, p, q = nash_equilibrium(a)\n",
    "    visualization(p)\n",
    "    visualization(q)\n",
    "    print(\"value of the game is \", u)"
   ]
  },
  {
   "cell_type": "code",
   "execution_count": null,
   "metadata": {},
   "outputs": [],
   "source": [
    "#пример №1\n",
    "a = np.array([[5,0],\n",
    "              [6,0]])\n",
    "main(a)"
   ]
  },
  {
   "cell_type": "code",
   "execution_count": null,
   "metadata": {},
   "outputs": [],
   "source": [
    "#пример №2\n",
    "a = np.array([[5, 8, 10],\n",
    "              [6, 4, 10],\n",
    "              [0, 0, 0]])\n",
    "main(a)"
   ]
  },
  {
   "cell_type": "code",
   "execution_count": 15,
   "metadata": {},
   "outputs": [
    {
     "ename": "NameError",
     "evalue": "name 'np' is not defined",
     "output_type": "error",
     "traceback": [
      "\u001b[0;31m---------------------------------------------------------------------------\u001b[0m",
      "\u001b[0;31mNameError\u001b[0m                                 Traceback (most recent call last)",
      "Cell \u001b[0;32mIn[15], line 2\u001b[0m\n\u001b[1;32m      1\u001b[0m \u001b[38;5;66;03m#пример №3\u001b[39;00m\n\u001b[0;32m----> 2\u001b[0m a \u001b[38;5;241m=\u001b[39m \u001b[43mnp\u001b[49m\u001b[38;5;241m.\u001b[39marray([[\u001b[38;5;241m5\u001b[39m, \u001b[38;5;241m8\u001b[39m],\n\u001b[1;32m      3\u001b[0m               [\u001b[38;5;241m6\u001b[39m, \u001b[38;5;241m4\u001b[39m]])\n\u001b[1;32m      4\u001b[0m main(a)\n",
      "\u001b[0;31mNameError\u001b[0m: name 'np' is not defined"
     ]
    }
   ],
   "source": [
    "#пример №3\n",
    "a = np.array([[5, 8],\n",
    "              [6, 4]])\n",
    "main(a)"
   ]
  },
  {
   "cell_type": "code",
   "execution_count": 17,
   "metadata": {},
   "outputs": [
    {
     "ename": "NameError",
     "evalue": "name 'np' is not defined",
     "output_type": "error",
     "traceback": [
      "\u001b[0;31m---------------------------------------------------------------------------\u001b[0m",
      "\u001b[0;31mNameError\u001b[0m                                 Traceback (most recent call last)",
      "Cell \u001b[0;32mIn[17], line 1\u001b[0m\n\u001b[0;32m----> 1\u001b[0m a \u001b[38;5;241m=\u001b[39m \u001b[43mnp\u001b[49m\u001b[38;5;241m.\u001b[39marray([[\u001b[38;5;241m4\u001b[39m, \u001b[38;5;241m0\u001b[39m, \u001b[38;5;241m6\u001b[39m, \u001b[38;5;241m2\u001b[39m,  \u001b[38;5;241m2\u001b[39m, \u001b[38;5;241m1\u001b[39m],\n\u001b[1;32m      2\u001b[0m               [\u001b[38;5;241m3\u001b[39m, \u001b[38;5;241m8\u001b[39m, \u001b[38;5;241m4\u001b[39m, \u001b[38;5;241m10\u001b[39m,  \u001b[38;5;241m4\u001b[39m, \u001b[38;5;241m4\u001b[39m],\n\u001b[1;32m      3\u001b[0m               [\u001b[38;5;241m1\u001b[39m, \u001b[38;5;241m2\u001b[39m, \u001b[38;5;241m6\u001b[39m, \u001b[38;5;241m5\u001b[39m, \u001b[38;5;241m0\u001b[39m, \u001b[38;5;241m0\u001b[39m],\n\u001b[1;32m      4\u001b[0m               [\u001b[38;5;241m6\u001b[39m, \u001b[38;5;241m6\u001b[39m, \u001b[38;5;241m4\u001b[39m,  \u001b[38;5;241m4\u001b[39m, \u001b[38;5;241m10\u001b[39m, \u001b[38;5;241m3\u001b[39m],\n\u001b[1;32m      5\u001b[0m               [\u001b[38;5;241m10\u001b[39m, \u001b[38;5;241m4\u001b[39m, \u001b[38;5;241m6\u001b[39m, \u001b[38;5;241m4\u001b[39m, \u001b[38;5;241m0\u001b[39m, \u001b[38;5;241m9\u001b[39m],\n\u001b[1;32m      6\u001b[0m               [\u001b[38;5;241m10\u001b[39m, \u001b[38;5;241m7\u001b[39m, \u001b[38;5;241m0\u001b[39m, \u001b[38;5;241m7\u001b[39m, \u001b[38;5;241m9\u001b[39m, \u001b[38;5;241m8\u001b[39m]])\n\u001b[1;32m      7\u001b[0m main(a)\n",
      "\u001b[0;31mNameError\u001b[0m: name 'np' is not defined"
     ]
    }
   ],
   "source": [
    "#пример из задания\n",
    "a = np.array([[4, 0, 6, 2,  2, 1],\n",
    "              [3, 8, 4, 10,  4, 4],\n",
    "              [1, 2, 6, 5, 0, 0],\n",
    "              [6, 6, 4,  4, 10, 3],\n",
    "              [10, 4, 6, 4, 0, 9],\n",
    "              [10, 7, 0, 7, 9, 8]])\n",
    "main(a)"
   ]
  }
 ],
 "metadata": {
  "kernelspec": {
   "display_name": "Python 3",
   "language": "python",
   "name": "python3"
  },
  "language_info": {
   "codemirror_mode": {
    "name": "ipython",
    "version": 3
   },
   "file_extension": ".py",
   "mimetype": "text/x-python",
   "name": "python",
   "nbconvert_exporter": "python",
   "pygments_lexer": "ipython3",
   "version": "3.12.4"
  }
 },
 "nbformat": 4,
 "nbformat_minor": 2
}
